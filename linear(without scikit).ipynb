{
 "cells": [
  {
   "cell_type": "code",
   "execution_count": 13,
   "id": "82b0ac7e-d932-4824-9628-1f3cb3377fe2",
   "metadata": {},
   "outputs": [],
   "source": [
    "import pandas as pd \n",
    "import numpy as np \n",
    "from sklearn.model_selection import train_test_split \n",
    "from sklearn.preprocessing import StandardScaler, MinMaxScaler \n",
    "from sklearn.metrics import accuracy_score "
   ]
  },
  {
   "cell_type": "code",
   "execution_count": 14,
   "id": "679fe84a-c8d4-4d60-a067-ee0b0823bd8a",
   "metadata": {},
   "outputs": [
    {
     "name": "stdout",
     "output_type": "stream",
     "text": [
      "   YearsExperience  Salary\n",
      "0              1.1   39343\n",
      "1              1.3   46205\n",
      "2              1.5   37731\n",
      "3              2.0   43525\n",
      "4              2.2   39891\n"
     ]
    }
   ],
   "source": [
    "data = pd.read_csv('Salary_Data.csv') \n",
    "data.head()\n",
    "print(data.head())"
   ]
  },
  {
   "cell_type": "code",
   "execution_count": 19,
   "id": "d36c8339-fe75-46e5-b1d1-13be468d5036",
   "metadata": {},
   "outputs": [],
   "source": [
    " \n",
    "X = data['YearsExperience'].values \n",
    "y = data['Salary'].values \n",
    "X_train, X_test, y_train, y_test = train_test_split(X, y, test_size=0.2, random_state=42) "
   ]
  },
  {
   "cell_type": "code",
   "execution_count": 20,
   "id": "95d2d0d5-b1b9-4cb3-b31b-2eb044a68d8c",
   "metadata": {},
   "outputs": [],
   "source": [
    "def LinearRegression(X_train,y_train): \n",
    "    n=0 \n",
    "    d=0  \n",
    "    m = 0 \n",
    "    c = 0 \n",
    "    for i in range (X_train.shape[0]): \n",
    "        n = n+((X_train[i]-X_train.mean())*(y_train[i]-y_train.mean())) \n",
    "        d = d+((X_train[i]-X_train.mean())**2) \n",
    "        \n",
    "    m = n/d \n",
    "    c = y_train.mean()-(m*X_train.mean())\n",
    "\n",
    "    return m,c "
   ]
  },
  {
   "cell_type": "code",
   "execution_count": 21,
   "id": "de975ff0-d172-4a95-8aab-708543a73644",
   "metadata": {},
   "outputs": [
    {
     "name": "stdout",
     "output_type": "stream",
     "text": [
      "9423.815323030976\n",
      "25321.583011776813\n",
      "71498.2780946286\n",
      "4.9\n"
     ]
    }
   ],
   "source": [
    "def predict(m,c,X_test): \n",
    "    y=m*X_test+c \n",
    "    return y \n",
    "m,c=LinearRegression(X_train,y_train) \n",
    "print(m) \n",
    "print(c) \n",
    "print(predict(m,c,X_test[1])) \n",
    "print(X_test[1]) "
   ]
  },
  {
   "cell_type": "code",
   "execution_count": null,
   "id": "c06a4649-1613-40d5-ba24-551701e3f97d",
   "metadata": {},
   "outputs": [],
   "source": []
  }
 ],
 "metadata": {
  "kernelspec": {
   "display_name": "Python 3 (ipykernel)",
   "language": "python",
   "name": "python3"
  },
  "language_info": {
   "codemirror_mode": {
    "name": "ipython",
    "version": 3
   },
   "file_extension": ".py",
   "mimetype": "text/x-python",
   "name": "python",
   "nbconvert_exporter": "python",
   "pygments_lexer": "ipython3",
   "version": "3.13.1"
  }
 },
 "nbformat": 4,
 "nbformat_minor": 5
}
